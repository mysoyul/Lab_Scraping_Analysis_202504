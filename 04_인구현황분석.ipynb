{
 "cells": [
  {
   "cell_type": "code",
   "execution_count": null,
   "id": "0",
   "metadata": {},
   "outputs": [],
   "source": [
    "import pandas as pd\n",
    "import matplotlib\n",
    "import matplotlib.pyplot as plt\n",
    "import matplotlib.font_manager as fm\n",
    "import seaborn as sns"
   ]
  },
  {
   "cell_type": "code",
   "execution_count": null,
   "id": "1",
   "metadata": {},
   "outputs": [],
   "source": [
    "font_path = 'C:\\\\windows\\\\Fonts\\\\malgun.ttf'\n",
    "font_prop = fm.FontProperties(fname=font_path).get_name()\n",
    "print(font_prop)\n",
    "matplotlib.rc('font', family=font_prop)"
   ]
  },
  {
   "cell_type": "code",
   "execution_count": null,
   "id": "2",
   "metadata": {},
   "outputs": [],
   "source": [
    "# 인구현황.csv 로드하여 DataFrame 객체생성 , 변수명은 df_all \n"
   ]
  },
  {
   "cell_type": "code",
   "execution_count": null,
   "id": "3",
   "metadata": {},
   "outputs": [],
   "source": [
    "# 전국 데이터는 제거하고 새로운 DataFrame 생성, 변수명은 df\n",
    "df = df_all.loc[df_all['행정기관'] != '전국'].copy()\n",
    "df.head()"
   ]
  },
  {
   "cell_type": "code",
   "execution_count": null,
   "id": "4",
   "metadata": {},
   "outputs": [],
   "source": [
    "print(\"\\n결측치 확인:\")\n",
    "print(df.isnull().sum())"
   ]
  },
  {
   "cell_type": "markdown",
   "id": "5",
   "metadata": {},
   "source": [
    "##### 1. 지역별 총인구수 Top5\n"
   ]
  },
  {
   "cell_type": "code",
   "execution_count": null,
   "id": "6",
   "metadata": {},
   "outputs": [],
   "source": [
    "print(\"1. 지역별 총인구수 Top5\")\n",
    "\n"
   ]
  },
  {
   "cell_type": "markdown",
   "id": "7",
   "metadata": {},
   "source": [
    "##### 1-1. 지역별 총인구수 Plot"
   ]
  },
  {
   "cell_type": "code",
   "execution_count": null,
   "id": "8",
   "metadata": {},
   "outputs": [],
   "source": [
    "plt.figure(figsize=(10,5))\n",
    "# seaborn의 barplot() 함수사용\n",
    "\n",
    "\n",
    "plt.xticks(rotation=45)\n",
    "plt.title('지역별 총인구수')\n",
    "plt.tight_layout()\n",
    "plt.show()"
   ]
  },
  {
   "cell_type": "markdown",
   "id": "9",
   "metadata": {},
   "source": [
    "##### 2. 세대당 인구수 높은 지역 Top5"
   ]
  },
  {
   "cell_type": "code",
   "execution_count": null,
   "id": "10",
   "metadata": {},
   "outputs": [],
   "source": [
    "print(\"2. 세대당 인구수 높은 지역 Top5\")\n",
    "\n"
   ]
  },
  {
   "cell_type": "markdown",
   "id": "11",
   "metadata": {},
   "source": [
    "##### 2-1. 지역별 세대당 인구 Plot"
   ]
  },
  {
   "cell_type": "code",
   "execution_count": null,
   "id": "12",
   "metadata": {},
   "outputs": [],
   "source": [
    "plt.figure(figsize=(10,5))\n",
    "# seaborn의 barplot() 함수사용\n",
    "\n"
   ]
  },
  {
   "cell_type": "markdown",
   "id": "13",
   "metadata": {},
   "source": [
    "##### 3. 남녀 비율 분석"
   ]
  },
  {
   "cell_type": "code",
   "execution_count": null,
   "id": "14",
   "metadata": {},
   "outputs": [],
   "source": [
    "print(\"3. 남녀 비율 분석\")\n"
   ]
  },
  {
   "cell_type": "markdown",
   "id": "15",
   "metadata": {},
   "source": [
    "##### 3-1. 지역별 남녀 비율 Plot\n",
    "* 기준이 되는 빨간선은 pyplot의 axhline() 함수를 사용해 보세요."
   ]
  },
  {
   "cell_type": "code",
   "execution_count": null,
   "id": "16",
   "metadata": {},
   "outputs": [],
   "source": [
    "plt.figure(figsize=(10,5))\n",
    "\n"
   ]
  },
  {
   "cell_type": "markdown",
   "id": "17",
   "metadata": {},
   "source": [
    "##### 4. 남자초과 / 여자초과 분석\n",
    "* 남초(남자초과) => 남자 인구가 여자 인구보다 많은 지역\t남여 비율 > 1 또는 남자 인구수 > 여자 인구수\n",
    "* 여초(여자초과) => 여자 인구가 남자 인구보다 많은 지역\t남여 비율 < 1 또는 여자 인구수 > 남자 인구수\n",
    "\n",
    "* 남초여초 컬럼을 추가합니다. "
   ]
  },
  {
   "cell_type": "code",
   "execution_count": null,
   "id": "18",
   "metadata": {},
   "outputs": [],
   "source": [
    "print(\"4. 남초 vs 여초 지역 구분\")\n",
    "\n"
   ]
  },
  {
   "cell_type": "markdown",
   "id": "19",
   "metadata": {},
   "source": [
    "##### 5. 세대당 인구 평균보다 높은 지역"
   ]
  },
  {
   "cell_type": "code",
   "execution_count": null,
   "id": "20",
   "metadata": {},
   "outputs": [],
   "source": [
    "print(\"5. 세대당 인구 평균보다 높은 지역\")\n",
    "\n"
   ]
  },
  {
   "cell_type": "markdown",
   "id": "21",
   "metadata": {},
   "source": [
    "##### 5-1. 남초 vs 여초 개수 Plot  /  지역별 세대수 Plot"
   ]
  },
  {
   "cell_type": "code",
   "execution_count": null,
   "id": "22",
   "metadata": {},
   "outputs": [],
   "source": []
  },
  {
   "cell_type": "markdown",
   "id": "23",
   "metadata": {},
   "source": [
    "##### 6. 남자 인구 vs 여자 인구 비교 Plot"
   ]
  },
  {
   "cell_type": "code",
   "execution_count": null,
   "id": "24",
   "metadata": {},
   "outputs": [],
   "source": []
  },
  {
   "cell_type": "markdown",
   "id": "25",
   "metadata": {},
   "source": [
    "### 엑셀 리포트 자동 생성 코드"
   ]
  },
  {
   "cell_type": "code",
   "execution_count": null,
   "id": "26",
   "metadata": {},
   "outputs": [],
   "source": [
    "# 엑셀 저장용\n",
    "from pandas import ExcelWriter\n",
    "import datetime\n",
    "\n",
    "# 분석 데이터 준비\n",
    "top5_population = df[['행정기관', '총인구수']].sort_values(by='총인구수', ascending=False).head(5)\n",
    "top5_family = df[['행정기관', '세대당 인구']].sort_values(by='세대당 인구', ascending=False).head(5)\n",
    "male_vs_female = df[['행정기관', '남자 인구수', '여자 인구수']]\n",
    "\n",
    "# 남초/여초 컬럼 추가\n",
    "df['남초여초'] = df['남여 비율'].apply(lambda x: '남초' if x > 1 else ('여초' if x < 1 else '동일'))\n",
    "\n",
    "today = datetime.datetime.now().strftime('%Y%m%d')\n",
    "filename = f'data/인구분석리포트_{today}.xlsx'\n",
    "\n",
    "# Excel 파일로 저장\n",
    "with ExcelWriter(filename, engine='openpyxl') as writer:\n",
    "    df.to_excel(writer, sheet_name='원본데이터', index=False)\n",
    "    top5_population.to_excel(writer, sheet_name='총인구 Top5', index=False)\n",
    "    top5_family.to_excel(writer, sheet_name='세대당 인구 Top5', index=False)\n",
    "    male_vs_female.to_excel(writer, sheet_name='남자vs여자', index=False)\n",
    "    \n",
    "print(\"엑셀 리포트 저장 완료 → '인구분석리포트.xlsx'\")\n"
   ]
  },
  {
   "cell_type": "code",
   "execution_count": null,
   "id": "27",
   "metadata": {},
   "outputs": [],
   "source": [
    "# 남녀 인구 차이 컬럼 추가\n",
    "df['남여차이'] = abs(df['남자 인구수'] - df['여자 인구수'])\n",
    "\n",
    "# 남녀 비율 TOP5 (남초)\n",
    "male_dom = df.sort_values(by='남여 비율', ascending=False).head(5)\n",
    "\n",
    "# 남녀 비율 TOP5 (여초)\n",
    "female_dom = df.sort_values(by='남여 비율', ascending=True).head(5)\n",
    "\n",
    "# 세대당 인구 TOP5 (가구당 인구 많은 지역)\n",
    "big_family = df.sort_values(by='세대당 인구', ascending=False).head(5)\n",
    "\n",
    "# 세대수 대비 총인구 비율\n",
    "df['인구/세대'] = df['총인구수'] / df['세대수']\n",
    "\n",
    "# 수도권 vs 비수도권 비교\n",
    "capital = df[df['행정기관'].isin(['서울특별시', '경기도', '인천광역시'])]\n",
    "non_capital = df[~df['행정기관'].isin(['서울특별시', '경기도', '인천광역시'])]\n"
   ]
  },
  {
   "cell_type": "code",
   "execution_count": null,
   "id": "28",
   "metadata": {},
   "outputs": [],
   "source": [
    "\n",
    "print(\"남초 TOP5\")\n",
    "male_dom[['행정기관','남여 비율']].reset_index(drop=True)\n"
   ]
  },
  {
   "cell_type": "code",
   "execution_count": null,
   "id": "29",
   "metadata": {},
   "outputs": [],
   "source": [
    "\n",
    "print(\"여초 TOP5\")\n",
    "female_dom[['행정기관','남여 비율']].reset_index(drop=True)\n"
   ]
  },
  {
   "cell_type": "code",
   "execution_count": null,
   "id": "30",
   "metadata": {},
   "outputs": [],
   "source": [
    "\n",
    "print(\"세대당 인구 많은 TOP5\")\n",
    "big_family[['행정기관','세대당 인구']].reset_index(drop=True)\n"
   ]
  },
  {
   "cell_type": "code",
   "execution_count": null,
   "id": "31",
   "metadata": {},
   "outputs": [],
   "source": [
    "\n",
    "print(\"수도권 평균 세대당 인구:\", capital['세대당 인구'].mean())\n",
    "print(\"비수도권 평균 세대당 인구:\", non_capital['세대당 인구'].mean())"
   ]
  },
  {
   "cell_type": "code",
   "execution_count": null,
   "id": "32",
   "metadata": {},
   "outputs": [],
   "source": [
    "# 전국 총인구수\n",
    "total_population = df_all[df_all['행정기관'] == '전국']['총인구수'].values[0]\n",
    "\n",
    "# 인구비율(%) 컬럼 추가하기\n",
    "df['인구비율(%)'] = df['총인구수'] / total_population * 100\n",
    "\n",
    "df"
   ]
  },
  {
   "cell_type": "code",
   "execution_count": null,
   "id": "33",
   "metadata": {},
   "outputs": [],
   "source": [
    "# 전국 제외\n",
    "df_plot = df.sort_values(by='인구비율(%)', ascending=False)\n",
    "df_plot"
   ]
  },
  {
   "cell_type": "code",
   "execution_count": null,
   "id": "34",
   "metadata": {},
   "outputs": [],
   "source": [
    "\n",
    "# 시각화\n",
    "plt.figure(figsize=(12, 8))\n",
    "bars = plt.barh(df_plot['행정기관'], df_plot['인구비율(%)'], color='cornflowerblue')\n",
    "\n",
    "plt.xlabel('인구비율 (%)')\n",
    "plt.title('행정기관별 인구 비율')\n",
    "\n",
    "# 값 표시\n",
    "for bar in bars:\n",
    "    plt.text(bar.get_width() + 0.1, bar.get_y() + bar.get_height()/2,\n",
    "             f\"{bar.get_width():.2f}%\", va='center')\n",
    "\n",
    "plt.gca().invert_yaxis()\n",
    "plt.show()"
   ]
  }
 ],
 "metadata": {
  "kernelspec": {
   "display_name": "base",
   "language": "python",
   "name": "python3"
  },
  "language_info": {
   "codemirror_mode": {
    "name": "ipython",
    "version": 3
   },
   "file_extension": ".py",
   "mimetype": "text/x-python",
   "name": "python",
   "nbconvert_exporter": "python",
   "pygments_lexer": "ipython3",
   "version": "3.12.7"
  }
 },
 "nbformat": 4,
 "nbformat_minor": 5
}
