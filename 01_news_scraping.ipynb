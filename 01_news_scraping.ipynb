{
 "cells": [
  {
   "cell_type": "markdown",
   "id": "eb0bfa44",
   "metadata": {},
   "source": [
    "## 1-1. Daum 뉴스제목 가져오기\n",
    "* user-agent 요청헤더를 반드시 설정해야 한다."
   ]
  },
  {
   "cell_type": "code",
   "execution_count": 31,
   "id": "bf80a429",
   "metadata": {},
   "outputs": [
    {
     "name": "stdout",
     "output_type": "stream",
     "text": [
      "https://news.daum.net/economy\n",
      "<class 'requests.models.Response'>\n",
      "200\n",
      "<class 'bs4.element.ResultSet'> 9\n",
      "https://v.daum.net/v/20250408174344325\n",
      "메디젠휴먼케어, \"23andMe 파산..한국 유전체 산업의 위기 아닌 기회\"\n",
      "https://v.daum.net/v/20250408174234298\n",
      "돈 쓸곳 많은데···나라살림 적자 또 100조 넘어\n",
      "https://v.daum.net/v/20250408173713085\n",
      "칩 확보서 데이터센터까지···전 산업에 'AI 고속도로' 깔아야\n",
      "https://v.daum.net/v/20250408173626057\n",
      "77년 묵은 정부조직, 데이터 중심 대수술···'AI 부총리' 도입을\n",
      "https://v.daum.net/v/20250408172845794\n",
      "[이슈ON] 마은혁 받고 '윤 절친' 이완규 투입...한덕수는 왜?\n",
      "https://v.daum.net/v/20250408161553109\n",
      "트럼프발 주가폭락에 동아 \"경제적 핵전쟁\" 조선 \"금융위기 후 최악\"\n",
      "https://v.daum.net/v/20250408160526681\n",
      "공황과 격변의 판도라 박스가 열리다\n",
      "https://v.daum.net/v/20250408154329660\n",
      "해외서 발 뺀 이중항체, 韓 기업들이 이끈다\n",
      "https://v.daum.net/v/20250408153003030\n",
      "탄핵 끝났는데 韓경제 ‘봄’은 언제 오나…박근혜 때와 다른 이유\n"
     ]
    }
   ],
   "source": [
    "import requests\n",
    "from bs4 import BeautifulSoup\n",
    "\n",
    "# 다음 경제 뉴스 URL\n",
    "url = 'https://news.daum.net/economy'\n",
    "\n",
    "print(url)\n",
    "\n",
    "# 요청 헤더\n",
    "req_header = {\n",
    "    'user-agent': 'Mozilla/5.0 (Windows NT 10.0; Win64; x64) AppleWebKit/537.36 (KHTML, like Gecko) Chrome/104.0.0.0 Safari/537.36'\n",
    "}\n",
    "\n",
    "res = requests.get(url, headers=req_header)\n",
    "print(type(res))\n",
    "print(res.status_code)\n",
    "\n",
    "# 정상 응답 여부 확인\n",
    "if res.ok:\n",
    "    res.encoding = 'utf-8' \n",
    "    html = res.text\n",
    "    soup = BeautifulSoup(html, 'html.parser')\n",
    "    \n",
    "    # 기사 제목과 링크 추출\n",
    "    li_tag_list = soup.select('ul.list_newsheadline2 li')\n",
    "\n",
    "    print(type(li_tag_list), len(li_tag_list))\n",
    "\n",
    "    for li_tag in li_tag_list:        \n",
    "        a_tag = li_tag.find('a')\n",
    "        print(a_tag['href'])\n",
    "        \n",
    "        strong_tag = li_tag.select('div.cont_thumb strong.tit_txt')[0]\n",
    "        #li_tag.select_one('div.cont_thumb strong.tit_txt')\n",
    "        title = strong_tag.text.strip()\n",
    "        print(title)\n",
    "\n",
    "\n",
    "else:\n",
    "    print(f'에러코드 = {res.status_code}')\n",
    "\n"
   ]
  },
  {
   "cell_type": "code",
   "execution_count": null,
   "id": "9788d6ac",
   "metadata": {},
   "outputs": [
    {
     "data": {
      "text/plain": [
       "{'기후/환경': 'climate',\n",
       " '사회': 'society',\n",
       " '경제': 'economy',\n",
       " '정치': 'politics',\n",
       " '국재': 'world',\n",
       " '문화': 'culture',\n",
       " '생활': 'life',\n",
       " 'IT/과학': 'tech',\n",
       " '인물': 'people'}"
      ]
     },
     "execution_count": 21,
     "metadata": {},
     "output_type": "execute_result"
    }
   ],
   "source": [
    "section_dict = {'기후/환경':'climate','사회':'society','경제':'economy','정치':'politics',\\\n",
    "                '국재':'world','문화':'culture','생활':'life','IT/과학':'tech','인물':'people'}\n",
    "section_dict"
   ]
  },
  {
   "cell_type": "markdown",
   "id": "ccb91def-cde3-4aeb-b0e5-2e7233500333",
   "metadata": {},
   "source": [
    "## 1-2. Daum 뉴스제목 \n",
    "* 함수로 선언하여 처리하기"
   ]
  },
  {
   "cell_type": "code",
   "execution_count": 26,
   "id": "94c12fd6",
   "metadata": {},
   "outputs": [],
   "source": [
    "import requests\n",
    "from bs4 import BeautifulSoup\n",
    "\n",
    "def print_news(section_name):    \n",
    "    section = section_dict[section_name]\n",
    "    # 요청 Parameter\n",
    "    req_param = {\n",
    "        'section': section\n",
    "    }\n",
    "    url = 'https://news.daum.net/{section}'.format(**req_param)\n",
    "    \n",
    "    print(f'======> {url} {section_name} 뉴스 <======')\n",
    "    \n",
    "    # 요청 헤더 설정 : 브라우저 정보\n",
    "    req_header = {\n",
    "        'user-agent': 'Mozilla/5.0 (Windows NT 10.0; Win64; x64) AppleWebKit/537.36 (KHTML, like Gecko) Chrome/104.0.0.0 Safari/537.36'\n",
    "    }\n",
    "\n",
    "    res = requests.get(url, headers=req_header)   \n",
    "\n",
    "    if res.ok:\n",
    "        res.encoding = 'utf-8' \n",
    "        html = res.text\n",
    "        soup = BeautifulSoup(html, 'html.parser')\n",
    "        \n",
    "        # 기사 제목과 링크 추출\n",
    "        li_tag_list = soup.select('ul.list_newsheadline2 li')\n",
    "\n",
    "        #print(type(li_tag_list), len(li_tag_list))\n",
    "\n",
    "        for li_tag in li_tag_list:        \n",
    "            a_tag = li_tag.find('a')\n",
    "            print(a_tag['href'])\n",
    "            \n",
    "            strong_tag = li_tag.select_one('div.cont_thumb strong.tit_txt')\n",
    "            title = strong_tag.text.strip()\n",
    "            print(title)\n",
    "\n",
    "\n",
    "    else:\n",
    "        print(f'에러코드 = {res.status_code}')\n"
   ]
  },
  {
   "cell_type": "code",
   "execution_count": 27,
   "id": "4fa3ef3c",
   "metadata": {},
   "outputs": [
    {
     "name": "stdout",
     "output_type": "stream",
     "text": [
      "======> https://news.daum.net/economy 경제 뉴스 <======\n",
      "https://v.daum.net/v/20250408121010759\n",
      "\"아무도 대신 챙겨주지 않습니다\" 퇴직금으론 부족한 은퇴 후 삶 \"개인 연금 중요\"\n",
      "https://v.daum.net/v/20250408120953746\n",
      "윤석열정부 공공기관장 절반, 총선 이후 임명(종합)\n",
      "https://v.daum.net/v/20250408120454629\n",
      "정년 연장에 '청년 고통'…취준생 일자리 11만개 사라졌다\n",
      "https://v.daum.net/v/20250408120010314\n",
      "한은 \"정년연장? 퇴직 후 재고용!\"…소득공백기 179만원 더 번다\n",
      "https://v.daum.net/v/20250408120000281\n",
      "지자체 대부업 자본금 요건 상향…개인 1억·법인 3억원으로\n",
      "https://v.daum.net/v/20250408113412211\n",
      "트럼프 때문에 '공동 묘지' 된 금융시장, 투자 전문가 \"뉴스 보지 말라\" 왜?\n",
      "https://v.daum.net/v/20250408111800386\n",
      "한국 GDP 성장 기여도 95% 달하는 수출에 직격탄 [관세전쟁 후폭풍]\n",
      "https://v.daum.net/v/20250408111603311\n",
      "'검은 월요일' 1987년과 2025년\n",
      "https://v.daum.net/v/20250408111500208\n",
      "주왕산국립공원 1/3 삼킨 화마…1대뿐인 헬기 무용지물이었다\n"
     ]
    }
   ],
   "source": [
    "print_news('경제')"
   ]
  },
  {
   "cell_type": "code",
   "execution_count": 28,
   "id": "fdb81c0c",
   "metadata": {},
   "outputs": [
    {
     "name": "stdout",
     "output_type": "stream",
     "text": [
      "======> https://news.daum.net/people 인물 뉴스 <======\n",
      "https://v.daum.net/v/20250408092113275\n",
      "소쿠리를 소꼬리로 잘못 알아듣고… 몸보신 얘기에 웃음만발[사랑합니다]\n",
      "https://v.daum.net/v/20250408080901962\n",
      "한국 발레 전성기 만든 최태지가 아직도 꾸는 꿈\n",
      "https://v.daum.net/v/20250408080028797\n",
      "[MZ순경]’가만히 안아줄 수 있는 경찰 되고파’...시 쓰는 순경\n",
      "https://v.daum.net/v/20250408050209390\n",
      "트럼프 상호관세 정책 핵심 나바로 [이 사람@World]\n",
      "https://v.daum.net/v/20250407200810079\n",
      "제69회 신문의 날 기념대회… \"신문 역할·책임 막중\"\n",
      "https://v.daum.net/v/20250407184235757\n",
      "경기일보 K-ECO팀 ‘발암물질 위의 아이들’ 한국신문상·최현호 정치부 차장 협회상 수상\n",
      "https://v.daum.net/v/20250407181900333\n",
      "범인 잡고도 9년째 한 푼 못 받은 '시민덕희', 결국 최후통첩 꺼냈다 [김수호의 리캐스트]\n",
      "https://v.daum.net/v/20250407165417820\n",
      "제10회 조선통신사 한·일 우정 걷기…허남정 단장 동행기<5>\n",
      "https://v.daum.net/v/20250407140512254\n",
      "‘어른 김장하’ 장학생 문형배, 자폐아 키우며 세상 이해한 김형두 [영상]\n",
      "https://v.daum.net/v/20250408043126944\n",
      "[가만한 당신] 냉전 체스 판의 '폰'이기를 거부한 체스 챔프\n",
      "https://v.daum.net/v/20250405050216058\n",
      "[단독] 언더우드의 110년 전 편지… “한국인은 고등 교육 받을 준비 돼 있다”\n",
      "https://v.daum.net/v/20250403060005274\n",
      "③목숨 건 ‘뿌리 찾기’···벽 앞에 울다[생사고투]\n",
      "https://v.daum.net/v/20250402164120082\n",
      "종교를 초월한 인연…‘인천 봉사왕’ 故장성철씨 49재 거행\n",
      "https://v.daum.net/v/20250402095023046\n",
      "2차대전 때 독일·일본軍 암호 푼 英 여성 비밀 요원 별세\n",
      "https://v.daum.net/v/20250408092113275\n",
      "소쿠리를 소꼬리로 잘못 알아듣고… 몸보신 얘기에 웃음만발[사랑합니다]\n"
     ]
    }
   ],
   "source": [
    "print_news('인물')"
   ]
  },
  {
   "cell_type": "markdown",
   "id": "45640860-a449-4285-90d7-5f300292b461",
   "metadata": {},
   "source": [
    "### 2-1 nate 최신뉴스 추출하기"
   ]
  },
  {
   "cell_type": "code",
   "execution_count": null,
   "id": "b30f7bf5",
   "metadata": {},
   "outputs": [
    {
     "name": "stdout",
     "output_type": "stream",
     "text": [
      "https://news.nate.com/recent?mid=n0100\n",
      "<class 'requests.models.Response'>\n",
      "200\n",
      "20\n",
      "============>> 1\n",
      "https://news.nate.com/view/20250408n38595?mid=n0100\n",
      "https://thumbnews.nateimg.co.kr/news90///news.nateimg.co.kr/orgImg/kz/2025/04/08/news-p.v1.20250408.9c201c68f9194dd7acca152b78f9a2d6_P1.jpg\n"
     ]
    },
    {
     "data": {
      "text/html": [
       "<img src=\"https://thumbnews.nateimg.co.kr/news90///news.nateimg.co.kr/orgImg/kz/2025/04/08/news-p.v1.20250408.9c201c68f9194dd7acca152b78f9a2d6_P1.jpg\"/>"
      ],
      "text/plain": [
       "<IPython.core.display.Image object>"
      ]
     },
     "metadata": {},
     "output_type": "display_data"
    },
    {
     "name": "stdout",
     "output_type": "stream",
     "text": [
      "아이브 가을, 신곡 'TKO' 안무 창작 브이로그 공개\n",
      "============>> 2\n",
      "https://news.nate.com/view/20250408n38488?mid=n0100\n",
      "https://thumbnews.nateimg.co.kr/news90///news.nateimg.co.kr/orgImg/ch/2025/04/08/ch_1744112644421_783403_0.jpg\n"
     ]
    },
    {
     "data": {
      "text/html": [
       "<img src=\"https://thumbnews.nateimg.co.kr/news90///news.nateimg.co.kr/orgImg/ch/2025/04/08/ch_1744112644421_783403_0.jpg\"/>"
      ],
      "text/plain": [
       "<IPython.core.display.Image object>"
      ]
     },
     "metadata": {},
     "output_type": "display_data"
    },
    {
     "name": "stdout",
     "output_type": "stream",
     "text": [
      "1기 때 핵 합의 엎은 트럼프 \"이란과 직접 핵 협상 진행\"\n",
      "============>> 3\n",
      "https://news.nate.com/view/20250408n30223?mid=n0100\n",
      "https://thumbnews.nateimg.co.kr/news90///news.nateimg.co.kr/orgImg/yt/2025/04/08/AKR20250408022600007_09_i.jpg\n"
     ]
    },
    {
     "data": {
      "text/html": [
       "<img src=\"https://thumbnews.nateimg.co.kr/news90///news.nateimg.co.kr/orgImg/yt/2025/04/08/AKR20250408022600007_09_i.jpg\"/>"
      ],
      "text/plain": [
       "<IPython.core.display.Image object>"
      ]
     },
     "metadata": {},
     "output_type": "display_data"
    },
    {
     "name": "stdout",
     "output_type": "stream",
     "text": [
      "탁구 대표팀, 외국 선수들과 합동훈련…신유빈은 디아스와 랠리\n",
      "============>> 4\n",
      "https://news.nate.com/view/20250408n38592?mid=n0100\n",
      "https://thumbnews.nateimg.co.kr/news90///news.nateimg.co.kr/orgImg/jn/2025/04/08/cf586092b3f513.jpg\n"
     ]
    },
    {
     "data": {
      "text/html": [
       "<img src=\"https://thumbnews.nateimg.co.kr/news90///news.nateimg.co.kr/orgImg/jn/2025/04/08/cf586092b3f513.jpg\"/>"
      ],
      "text/plain": [
       "<IPython.core.display.Image object>"
      ]
     },
     "metadata": {},
     "output_type": "display_data"
    },
    {
     "name": "stdout",
     "output_type": "stream",
     "text": [
      "이다해♥세븐, 별거 고백 \"신혼 즐길 새 없이 갑자기 많은 변화\"\n",
      "============>> 5\n",
      "https://news.nate.com/view/20250408n38591?mid=n0100\n",
      "https://thumbnews.nateimg.co.kr/news90///news.nateimg.co.kr/orgImg/kh/2025/04/08/l_2025040901000215100024631.jpg\n"
     ]
    },
    {
     "data": {
      "text/html": [
       "<img src=\"https://thumbnews.nateimg.co.kr/news90///news.nateimg.co.kr/orgImg/kh/2025/04/08/l_2025040901000215100024631.jpg\"/>"
      ],
      "text/plain": [
       "<IPython.core.display.Image object>"
      ]
     },
     "metadata": {},
     "output_type": "display_data"
    },
    {
     "name": "stdout",
     "output_type": "stream",
     "text": [
      "부동산 경기 활성화와 가계 부채 억제 사이, 새 정부 선택은?[정준호의 부동산과 사회경제]\n",
      "============>> 6\n",
      "https://news.nate.com/view/20250408n38590?mid=n0100\n",
      "https://thumbnews.nateimg.co.kr/news90///news.nateimg.co.kr/orgImg/kh/2025/04/08/l_2025040901000281100024611.jpg\n"
     ]
    },
    {
     "data": {
      "text/html": [
       "<img src=\"https://thumbnews.nateimg.co.kr/news90///news.nateimg.co.kr/orgImg/kh/2025/04/08/l_2025040901000281100024611.jpg\"/>"
      ],
      "text/plain": [
       "<IPython.core.display.Image object>"
      ]
     },
     "metadata": {},
     "output_type": "display_data"
    },
    {
     "name": "stdout",
     "output_type": "stream",
     "text": [
      "한은 \"60세 정년제 이후 고령 노동자 1명 늘 때 청년 일자리 1개 줄어\"…\"정년 연장 대신 퇴직 후 재고용\"\n",
      "============>> 7\n",
      "https://news.nate.com/view/20250408n37809?mid=n0100\n",
      "https://thumbnews.nateimg.co.kr/news90///news.nateimg.co.kr/orgImg/sg/2025/04/08/20250408519216.jpg\n"
     ]
    },
    {
     "data": {
      "text/html": [
       "<img src=\"https://thumbnews.nateimg.co.kr/news90///news.nateimg.co.kr/orgImg/sg/2025/04/08/20250408519216.jpg\"/>"
      ],
      "text/plain": [
       "<IPython.core.display.Image object>"
      ]
     },
     "metadata": {},
     "output_type": "display_data"
    },
    {
     "name": "stdout",
     "output_type": "stream",
     "text": [
      "김민희·홍상수, 아들 출산…\"하남 산후조리원서 머물러\"\n",
      "============>> 8\n",
      "https://news.nate.com/view/20250408n38588?mid=n0100\n",
      "https://thumbnews.nateimg.co.kr/news90///news.nateimg.co.kr/orgImg/pt/2025/04/08/202504082043770284_67f50bedc8f01.jpg\n"
     ]
    },
    {
     "data": {
      "text/html": [
       "<img src=\"https://thumbnews.nateimg.co.kr/news90///news.nateimg.co.kr/orgImg/pt/2025/04/08/202504082043770284_67f50bedc8f01.jpg\"/>"
      ],
      "text/plain": [
       "<IPython.core.display.Image object>"
      ]
     },
     "metadata": {},
     "output_type": "display_data"
    },
    {
     "name": "stdout",
     "output_type": "stream",
     "text": [
      "[사진]더쇼 무대 즐기는 뉴비트\n",
      "============>> 9\n",
      "https://news.nate.com/view/20250408n38572?mid=n0100\n",
      "https://thumbnews.nateimg.co.kr/news90///news.nateimg.co.kr/orgImg/dn/2025/04/08/news_1744112510_1483181_m_1.jpeg\n"
     ]
    },
    {
     "data": {
      "text/html": [
       "<img src=\"https://thumbnews.nateimg.co.kr/news90///news.nateimg.co.kr/orgImg/dn/2025/04/08/news_1744112510_1483181_m_1.jpeg\"/>"
      ],
      "text/plain": [
       "<IPython.core.display.Image object>"
      ]
     },
     "metadata": {},
     "output_type": "display_data"
    },
    {
     "name": "stdout",
     "output_type": "stream",
     "text": [
      "고공강하 훈련하다 다친 육군 중사, 치료 중 숨져\n",
      "============>> 10\n",
      "https://news.nate.com/view/20250408n38586?mid=n0100\n",
      "'전투기 무단촬영' 10대 중국인 \"부친이 공안\" 진술\n",
      "============>> 11\n",
      "https://news.nate.com/view/20250408n38585?mid=n0100\n",
      "경찰, '헌법재판관 지명' 이완규 피의자 소환 조사\n",
      "============>> 12\n",
      "https://news.nate.com/view/20250408n38584?mid=n0100\n",
      "허은아 '당원 투표 효력정지' 가처분 신청 2심도 기각\n",
      "============>> 13\n",
      "https://news.nate.com/view/20250408n38583?mid=n0100\n",
      "https://thumbnews.nateimg.co.kr/news90///news.nateimg.co.kr/orgImg/yn/2025/04/08/202504082034449783_t.jpg\n"
     ]
    },
    {
     "data": {
      "text/html": [
       "<img src=\"https://thumbnews.nateimg.co.kr/news90///news.nateimg.co.kr/orgImg/yn/2025/04/08/202504082034449783_t.jpg\"/>"
      ],
      "text/plain": [
       "<IPython.core.display.Image object>"
      ]
     },
     "metadata": {},
     "output_type": "display_data"
    },
    {
     "name": "stdout",
     "output_type": "stream",
     "text": [
      "'성남도개공 조례 청탁' 김만배 2심 무죄로 뒤집혀\n",
      "============>> 14\n",
      "https://news.nate.com/view/20250408n38582?mid=n0100\n",
      "이자가 원금 초과하는 대부업 대출, 7월부터 전면 무효화\n",
      "============>> 15\n",
      "https://news.nate.com/view/20250408n27017?mid=n0100\n",
      "https://thumbnews.nateimg.co.kr/news90///news.nateimg.co.kr/orgImg/kh/2025/04/08/rcv.YNA.20250408.PYH2025040813510001300_P1.jpg\n"
     ]
    },
    {
     "data": {
      "text/html": [
       "<img src=\"https://thumbnews.nateimg.co.kr/news90///news.nateimg.co.kr/orgImg/kh/2025/04/08/rcv.YNA.20250408.PYH2025040813510001300_P1.jpg\"/>"
      ],
      "text/plain": [
       "<IPython.core.display.Image object>"
      ]
     },
     "metadata": {},
     "output_type": "display_data"
    },
    {
     "name": "stdout",
     "output_type": "stream",
     "text": [
      "32년 만에 무대로 돌아온 이영애 \"연극에서의 이영애는 분명 다를 것\"\n",
      "============>> 16\n",
      "https://news.nate.com/view/20250408n38580?mid=n0100\n",
      "https://thumbnews.nateimg.co.kr/news90///news.nateimg.co.kr/orgImg/sc/2025/04/08/2025040801000626900084681.jpg\n"
     ]
    },
    {
     "data": {
      "text/html": [
       "<img src=\"https://thumbnews.nateimg.co.kr/news90///news.nateimg.co.kr/orgImg/sc/2025/04/08/2025040801000626900084681.jpg\"/>"
      ],
      "text/plain": [
       "<IPython.core.display.Image object>"
      ]
     },
     "metadata": {},
     "output_type": "display_data"
    },
    {
     "name": "stdout",
     "output_type": "stream",
     "text": [
      "[포토] 호쾌한 타격 한화 이진영\n",
      "============>> 17\n",
      "https://news.nate.com/view/20250408n32682?mid=n0100\n",
      "https://thumbnews.nateimg.co.kr/news90///news.nateimg.co.kr/orgImg/ns/2025/04/08/NISI20250408_0020764201_web.jpg\n"
     ]
    },
    {
     "data": {
      "text/html": [
       "<img src=\"https://thumbnews.nateimg.co.kr/news90///news.nateimg.co.kr/orgImg/ns/2025/04/08/NISI20250408_0020764201_web.jpg\"/>"
      ],
      "text/plain": [
       "<IPython.core.display.Image object>"
      ]
     },
     "metadata": {},
     "output_type": "display_data"
    },
    {
     "name": "stdout",
     "output_type": "stream",
     "text": [
      "국민의힘, 10명 넘는 대선후보들 거론…'한덕수 차출론'까지\n",
      "============>> 18\n",
      "https://news.nate.com/view/20250408n38578?mid=n0100\n",
      "https://thumbnews.nateimg.co.kr/news90///news.nateimg.co.kr/orgImg/pt/2025/04/08/202504082042775661_67f50b8f22cc6.jpg\n"
     ]
    },
    {
     "data": {
      "text/html": [
       "<img src=\"https://thumbnews.nateimg.co.kr/news90///news.nateimg.co.kr/orgImg/pt/2025/04/08/202504082042775661_67f50b8f22cc6.jpg\"/>"
      ],
      "text/plain": [
       "<IPython.core.display.Image object>"
      ]
     },
     "metadata": {},
     "output_type": "display_data"
    },
    {
     "name": "stdout",
     "output_type": "stream",
     "text": [
      "[사진]최재훈, 희생플라이로 역전에 성공\n",
      "============>> 19\n",
      "https://news.nate.com/view/20250408n38577?mid=n0100\n",
      "https://thumbnews.nateimg.co.kr/news90///news.nateimg.co.kr/orgImg/in/2025/04/08/48e6b958278a1d.jpg\n"
     ]
    },
    {
     "data": {
      "text/html": [
       "<img src=\"https://thumbnews.nateimg.co.kr/news90///news.nateimg.co.kr/orgImg/in/2025/04/08/48e6b958278a1d.jpg\"/>"
      ],
      "text/plain": [
       "<IPython.core.display.Image object>"
      ]
     },
     "metadata": {},
     "output_type": "display_data"
    },
    {
     "name": "stdout",
     "output_type": "stream",
     "text": [
      "\"좋은 회사 못 갈 바엔 쉴래요\"…그냥 '쉬는 청년' 사상 최고\n",
      "============>> 20\n",
      "https://news.nate.com/view/20250408n38576?mid=n0100\n",
      "https://thumbnews.nateimg.co.kr/news90///news.nateimg.co.kr/orgImg/pt/2025/04/08/202504082041770450_67f50b8730634.jpg\n"
     ]
    },
    {
     "data": {
      "text/html": [
       "<img src=\"https://thumbnews.nateimg.co.kr/news90///news.nateimg.co.kr/orgImg/pt/2025/04/08/202504082041770450_67f50b8730634.jpg\"/>"
      ],
      "text/plain": [
       "<IPython.core.display.Image object>"
      ]
     },
     "metadata": {},
     "output_type": "display_data"
    },
    {
     "name": "stdout",
     "output_type": "stream",
     "text": [
      "[사진]이진영, 찬스 이어가는 안타\n"
     ]
    }
   ],
   "source": [
    "import requests\n",
    "from bs4 import BeautifulSoup\n",
    "from urllib.parse import urljoin\n",
    "from IPython.display import Image, display\n",
    "\n",
    "url = 'https://news.nate.com/recent?mid=n0100'\n",
    "print(url)\n",
    "\n",
    "req_header = {\n",
    "    'user-agent': 'Mozilla/5.0 (Windows NT 10.0; Win64; x64) AppleWebKit/537.36 (KHTML, like Gecko) Chrome/104.0.0.0 Safari/537.36'\n",
    "}\n",
    "\n",
    "res = requests.get(url, headers=req_header)\n",
    "print(type(res))\n",
    "print(res.status_code)\n",
    "\n",
    "if res.ok:\n",
    "    res.encoding = 'euc-kr'\n",
    "    html = res.text\n",
    "    soup = BeautifulSoup(html, 'html.parser')\n",
    "    \n",
    "    tags = soup.select(\"div.postListType.noListTitle div.mlt01\")\n",
    "    print(len(tags))\n",
    "\n",
    "    for idx,div_tag in enumerate(tags,1): \n",
    "        print(f'============>> {idx}')       \n",
    "        a_tag = div_tag.find('a')\n",
    "        a_join_url = urljoin(url,a_tag['href'])\n",
    "        print(a_join_url)\n",
    "\n",
    "        img_tag = div_tag.select_one('span.ib img')\n",
    "        if img_tag:\n",
    "            photo_url = urljoin(url,img_tag['src'])\n",
    "            print(photo_url)\n",
    "            display(Image(url=photo_url))\n",
    "\n",
    "        h2_tag = div_tag.select_one('span.tb h2.tit')\n",
    "        title = h2_tag.text\n",
    "        print(title)\n",
    "\n",
    "else:\n",
    "    print(f'에러코드 = {res.status_code}')\n"
   ]
  },
  {
   "cell_type": "markdown",
   "id": "1d027530",
   "metadata": {},
   "source": [
    "## 2-2. Nate 뉴스제목과 Image 출력하기\n",
    "* 함수로 선언하여 처리하기"
   ]
  },
  {
   "cell_type": "code",
   "execution_count": 66,
   "id": "b20accc4",
   "metadata": {},
   "outputs": [
    {
     "name": "stdout",
     "output_type": "stream",
     "text": [
      "{'최신뉴스': 'n0100', '정치': 'n0200', '경제': 'n0300', '사회': 'n0400', '세계': 'n0500', 'IT/과학': 'n0600'}\n",
      "https://news.nate.com/recent?mid=n0600\n",
      "<class 'requests.models.Response'>\n",
      "200\n",
      "======> https://news.nate.com/recent?mid=n0600 IT/과학 뉴스 <======\n",
      "20\n",
      "============>> 1\n",
      "https://news.nate.com/view/20250408n40731?mid=n0600\n",
      "https://thumbnews.nateimg.co.kr/news90///news.nateimg.co.kr/orgImg/aj/2025/04/08/20250408154810178837.jpg\n"
     ]
    },
    {
     "data": {
      "text/html": [
       "<img src=\"https://thumbnews.nateimg.co.kr/news90///news.nateimg.co.kr/orgImg/aj/2025/04/08/20250408154810178837.jpg\"/>"
      ],
      "text/plain": [
       "<IPython.core.display.Image object>"
      ]
     },
     "metadata": {},
     "output_type": "display_data"
    },
    {
     "name": "stdout",
     "output_type": "stream",
     "text": [
      "\"아이폰 0원에 사세요\"…7월 단통법 폐지에 '보조금 지급경쟁'\n",
      "============>> 2\n",
      "https://news.nate.com/view/20250408n40313?mid=n0600\n",
      "https://thumbnews.nateimg.co.kr/news90///news.nateimg.co.kr/orgImg/hr/2025/04/08/news-p.v1.20250408.71f9838585544ac0a8efa9ea6bcb45e4_P1.png\n"
     ]
    },
    {
     "data": {
      "text/html": [
       "<img src=\"https://thumbnews.nateimg.co.kr/news90///news.nateimg.co.kr/orgImg/hr/2025/04/08/news-p.v1.20250408.71f9838585544ac0a8efa9ea6bcb45e4_P1.png\"/>"
      ],
      "text/plain": [
       "<IPython.core.display.Image object>"
      ]
     },
     "metadata": {},
     "output_type": "display_data"
    },
    {
     "name": "stdout",
     "output_type": "stream",
     "text": [
      "델 테크놀로지스, 인프라 설루션 신제품 출시…AI 데이터센터 현대화 지원\n",
      "============>> 3\n",
      "https://news.nate.com/view/20250408n40291?mid=n0600\n",
      "https://thumbnews.nateimg.co.kr/news90///news.nateimg.co.kr/orgImg/cz/2025/04/08/cz_1744117265512_336378_0.jpg\n"
     ]
    },
    {
     "data": {
      "text/html": [
       "<img src=\"https://thumbnews.nateimg.co.kr/news90///news.nateimg.co.kr/orgImg/cz/2025/04/08/cz_1744117265512_336378_0.jpg\"/>"
      ],
      "text/plain": [
       "<IPython.core.display.Image object>"
      ]
     },
     "metadata": {},
     "output_type": "display_data"
    },
    {
     "name": "stdout",
     "output_type": "stream",
     "text": [
      "델 테크놀로지스 \"AI 워크로드 통합 서버 '델 파워엣지' 공개…기존 대비 성능 67% 향상\"\n",
      "============>> 4\n",
      "https://news.nate.com/view/20250408n40290?mid=n0600\n",
      "https://thumbnews.nateimg.co.kr/news90///news.nateimg.co.kr/orgImg/in/2025/04/08/d99100e1c737e0.jpg\n"
     ]
    },
    {
     "data": {
      "text/html": [
       "<img src=\"https://thumbnews.nateimg.co.kr/news90///news.nateimg.co.kr/orgImg/in/2025/04/08/d99100e1c737e0.jpg\"/>"
      ],
      "text/plain": [
       "<IPython.core.display.Image object>"
      ]
     },
     "metadata": {},
     "output_type": "display_data"
    },
    {
     "name": "stdout",
     "output_type": "stream",
     "text": [
      "\"확장성, 비용효율 동시에\"…델, AI시대 맞춤 인프라 전략 공개\n",
      "============>> 5\n",
      "https://news.nate.com/view/20250408n19480?mid=n0600\n",
      "https://thumbnews.nateimg.co.kr/news90///news.nateimg.co.kr/orgImg/hn/2025/04/08/20250408501931.jpg\n"
     ]
    },
    {
     "data": {
      "text/html": [
       "<img src=\"https://thumbnews.nateimg.co.kr/news90///news.nateimg.co.kr/orgImg/hn/2025/04/08/20250408501931.jpg\"/>"
      ],
      "text/plain": [
       "<IPython.core.display.Image object>"
      ]
     },
     "metadata": {},
     "output_type": "display_data"
    },
    {
     "name": "stdout",
     "output_type": "stream",
     "text": [
      "'왕좌의 게임' 늑대, 현실 등장…7만년 된 DNA 확인해 복원\n",
      "============>> 6\n",
      "https://news.nate.com/view/20250408n37474?mid=n0600\n",
      "https://thumbnews.nateimg.co.kr/news90///news.nateimg.co.kr/orgImg/ns/2025/04/08/NISI20230919_0001368198_web.jpg\n"
     ]
    },
    {
     "data": {
      "text/html": [
       "<img src=\"https://thumbnews.nateimg.co.kr/news90///news.nateimg.co.kr/orgImg/ns/2025/04/08/NISI20230919_0001368198_web.jpg\"/>"
      ],
      "text/plain": [
       "<IPython.core.display.Image object>"
      ]
     },
     "metadata": {},
     "output_type": "display_data"
    },
    {
     "name": "stdout",
     "output_type": "stream",
     "text": [
      "아이브·아이유 소속사 주인 바뀌나…카카오, 카카오엔터 매각 추진\n",
      "============>> 7\n",
      "https://news.nate.com/view/20250408n39041?mid=n0600\n",
      "https://thumbnews.nateimg.co.kr/news90///news.nateimg.co.kr/orgImg/at/2025/04/08/20250408002057561_1744113716_1.png\n"
     ]
    },
    {
     "data": {
      "text/html": [
       "<img src=\"https://thumbnews.nateimg.co.kr/news90///news.nateimg.co.kr/orgImg/at/2025/04/08/20250408002057561_1744113716_1.png\"/>"
      ],
      "text/plain": [
       "<IPython.core.display.Image object>"
      ]
     },
     "metadata": {},
     "output_type": "display_data"
    },
    {
     "name": "stdout",
     "output_type": "stream",
     "text": [
      "[FSL] '원' 이원주, 드래프트 실수 딛고 '철벽' 수비로 2:1 승리…\"뇌가 굳어버렸다\"\n",
      "============>> 8\n",
      "https://news.nate.com/view/20250408n39013?mid=n0600\n",
      "https://thumbnews.nateimg.co.kr/news90///news.nateimg.co.kr/orgImg/jo/2025/04/08/afb5bc4b-a1a2-4fac-9d7b-68e56b00f72c.jpg\n"
     ]
    },
    {
     "data": {
      "text/html": [
       "<img src=\"https://thumbnews.nateimg.co.kr/news90///news.nateimg.co.kr/orgImg/jo/2025/04/08/afb5bc4b-a1a2-4fac-9d7b-68e56b00f72c.jpg\"/>"
      ],
      "text/plain": [
       "<IPython.core.display.Image object>"
      ]
     },
     "metadata": {},
     "output_type": "display_data"
    },
    {
     "name": "stdout",
     "output_type": "stream",
     "text": [
      "\"아빠, 20살때 몇 ㎏였어?\"…심장마비 위험 5분만에 아는 법\n",
      "============>> 9\n",
      "https://news.nate.com/view/20250408n38980?mid=n0600\n",
      "https://thumbnews.nateimg.co.kr/news90///news.nateimg.co.kr/orgImg/in/2025/04/08/e7ccb406d22f44.jpg\n"
     ]
    },
    {
     "data": {
      "text/html": [
       "<img src=\"https://thumbnews.nateimg.co.kr/news90///news.nateimg.co.kr/orgImg/in/2025/04/08/e7ccb406d22f44.jpg\"/>"
      ],
      "text/plain": [
       "<IPython.core.display.Image object>"
      ]
     },
     "metadata": {},
     "output_type": "display_data"
    },
    {
     "name": "stdout",
     "output_type": "stream",
     "text": [
      "마침내 ISS 도착 한국계 미국인 조니 김 \"여기는 우주\" [지금은 우주]\n",
      "============>> 10\n",
      "https://news.nate.com/view/20250408n38539?mid=n0600\n",
      "https://thumbnews.nateimg.co.kr/news90///news.nateimg.co.kr/orgImg/hr/2025/04/08/news-p.v1.20250405.6c60e94521544af79ed72e7adbe1e622_P1.png\n"
     ]
    },
    {
     "data": {
      "text/html": [
       "<img src=\"https://thumbnews.nateimg.co.kr/news90///news.nateimg.co.kr/orgImg/hr/2025/04/08/news-p.v1.20250405.6c60e94521544af79ed72e7adbe1e622_P1.png\"/>"
      ],
      "text/plain": [
       "<IPython.core.display.Image object>"
      ]
     },
     "metadata": {},
     "output_type": "display_data"
    },
    {
     "name": "stdout",
     "output_type": "stream",
     "text": [
      "\"드디어 나온다\" '65만원' 짜리 게임기에 아재들도 '난리'…뭐길래\n",
      "============>> 11\n",
      "https://news.nate.com/view/20250408n38528?mid=n0600\n",
      "글로벌 경쟁력 갖춘 '토종 AI' 1개뿐\n",
      "============>> 12\n",
      "https://news.nate.com/view/20250408n38346?mid=n0600\n",
      "https://thumbnews.nateimg.co.kr/news90///news.nateimg.co.kr/orgImg/hr/2025/04/08/ams.V01.photo.HDN.P.20240605.202406051948338930530555_P1.jpg\n"
     ]
    },
    {
     "data": {
      "text/html": [
       "<img src=\"https://thumbnews.nateimg.co.kr/news90///news.nateimg.co.kr/orgImg/hr/2025/04/08/ams.V01.photo.HDN.P.20240605.202406051948338930530555_P1.jpg\"/>"
      ],
      "text/plain": [
       "<IPython.core.display.Image object>"
      ]
     },
     "metadata": {},
     "output_type": "display_data"
    },
    {
     "name": "stdout",
     "output_type": "stream",
     "text": [
      "\"서정진·이정재·지드래곤이 한자리에\"…카이스트에서 열리는 '테크 파티'\n",
      "============>> 13\n",
      "https://news.nate.com/view/20250408n34975?mid=n0600\n",
      "카카오메이커스, 누적 거래액 1兆 돌파\n",
      "============>> 14\n",
      "https://news.nate.com/view/20250408n30286?mid=n0600\n",
      "https://thumbnews.nateimg.co.kr/news90///news.nateimg.co.kr/orgImg/mt/2025/04/08/mt_1744111445378_283370_0.jpg\n"
     ]
    },
    {
     "data": {
      "text/html": [
       "<img src=\"https://thumbnews.nateimg.co.kr/news90///news.nateimg.co.kr/orgImg/mt/2025/04/08/mt_1744111445378_283370_0.jpg\"/>"
      ],
      "text/plain": [
       "<IPython.core.display.Image object>"
      ]
     },
     "metadata": {},
     "output_type": "display_data"
    },
    {
     "name": "stdout",
     "output_type": "stream",
     "text": [
      "한국벤처창업학회, '2025 춘계통합학술대회' 개최\n",
      "============>> 15\n",
      "https://news.nate.com/view/20250408n37584?mid=n0600\n",
      "https://thumbnews.nateimg.co.kr/news90///news.nateimg.co.kr/orgImg/at/2025/04/08/20250408001943235_1.png\n"
     ]
    },
    {
     "data": {
      "text/html": [
       "<img src=\"https://thumbnews.nateimg.co.kr/news90///news.nateimg.co.kr/orgImg/at/2025/04/08/20250408001943235_1.png\"/>"
      ],
      "text/plain": [
       "<IPython.core.display.Image object>"
      ]
     },
     "metadata": {},
     "output_type": "display_data"
    },
    {
     "name": "stdout",
     "output_type": "stream",
     "text": [
      "[FSL] 'TK777' 이태경, 쉬운 축구로 역전승…'유민' 잡고 승자전 진출\n",
      "============>> 16\n",
      "https://news.nate.com/view/20250408n25420?mid=n0600\n",
      "https://thumbnews.nateimg.co.kr/news90///news.nateimg.co.kr/orgImg/ed/2025/04/08/PS25040801509.jpg\n"
     ]
    },
    {
     "data": {
      "text/html": [
       "<img src=\"https://thumbnews.nateimg.co.kr/news90///news.nateimg.co.kr/orgImg/ed/2025/04/08/PS25040801509.jpg\"/>"
      ],
      "text/plain": [
       "<IPython.core.display.Image object>"
      ]
     },
     "metadata": {},
     "output_type": "display_data"
    },
    {
     "name": "stdout",
     "output_type": "stream",
     "text": [
      "\"아이폰 가격 곧 300만원 된대\"…'패닉' 미국인들, 결국\n",
      "============>> 17\n",
      "https://news.nate.com/view/20250408n35202?mid=n0600\n",
      "https://thumbnews.nateimg.co.kr/news90///news.nateimg.co.kr/orgImg/hk/2025/04/08/AA.40088594.4.jpg\n"
     ]
    },
    {
     "data": {
      "text/html": [
       "<img src=\"https://thumbnews.nateimg.co.kr/news90///news.nateimg.co.kr/orgImg/hk/2025/04/08/AA.40088594.4.jpg\"/>"
      ],
      "text/plain": [
       "<IPython.core.display.Image object>"
      ]
     },
     "metadata": {},
     "output_type": "display_data"
    },
    {
     "name": "stdout",
     "output_type": "stream",
     "text": [
      "50만원짜리가 수억원으로 '변신'…한국도 뛰어들었다 [긱스]\n",
      "============>> 18\n",
      "https://news.nate.com/view/20250408n35956?mid=n0600\n",
      "https://thumbnews.nateimg.co.kr/news90///news.nateimg.co.kr/orgImg/cz/2025/04/08/cz_1744108204555_475008_0.jpg\n"
     ]
    },
    {
     "data": {
      "text/html": [
       "<img src=\"https://thumbnews.nateimg.co.kr/news90///news.nateimg.co.kr/orgImg/cz/2025/04/08/cz_1744108204555_475008_0.jpg\"/>"
      ],
      "text/plain": [
       "<IPython.core.display.Image object>"
      ]
     },
     "metadata": {},
     "output_type": "display_data"
    },
    {
     "name": "stdout",
     "output_type": "stream",
     "text": [
      "[바이오게시판] 대웅제약-고대안암병원, AI 신약 개발 MOU 체결 등\n",
      "============>> 19\n",
      "https://news.nate.com/view/20250408n36524?mid=n0600\n",
      "https://thumbnews.nateimg.co.kr/news90///news.nateimg.co.kr/orgImg/ae/2025/04/08/ae_1744107544551_247485_0.jpg\n"
     ]
    },
    {
     "data": {
      "text/html": [
       "<img src=\"https://thumbnews.nateimg.co.kr/news90///news.nateimg.co.kr/orgImg/ae/2025/04/08/ae_1744107544551_247485_0.jpg\"/>"
      ],
      "text/plain": [
       "<IPython.core.display.Image object>"
      ]
     },
     "metadata": {},
     "output_type": "display_data"
    },
    {
     "name": "stdout",
     "output_type": "stream",
     "text": [
      "\"과기AI부 만들고 부총리가 맡아야\"…정치권, 대선 앞두고 AI 힘싣기\n",
      "============>> 20\n",
      "https://news.nate.com/view/20250408n33295?mid=n0600\n",
      "https://thumbnews.nateimg.co.kr/news90///news.nateimg.co.kr/orgImg/mk/2025/04/08/20250409_01160116000004_M00.jpg\n"
     ]
    },
    {
     "data": {
      "text/html": [
       "<img src=\"https://thumbnews.nateimg.co.kr/news90///news.nateimg.co.kr/orgImg/mk/2025/04/08/20250409_01160116000004_M00.jpg\"/>"
      ],
      "text/plain": [
       "<IPython.core.display.Image object>"
      ]
     },
     "metadata": {},
     "output_type": "display_data"
    },
    {
     "name": "stdout",
     "output_type": "stream",
     "text": [
      "업무 넘어 감정교류도 척척 뤼튼, 생활형 AI 선보인다\n"
     ]
    }
   ],
   "source": [
    "import requests\n",
    "from bs4 import BeautifulSoup\n",
    "from urllib.parse import urljoin\n",
    "from IPython.display import Image, display\n",
    "\n",
    "section_dict = {'최신뉴스':'n0100','정치':'n0200','경제':'n0300','사회':'n0400',\\\n",
    "                '세계':'n0500','IT/과학':'n0600'}\n",
    "print(section_dict)\n",
    "\n",
    "def print_news(section_name):    \n",
    "    m_id = section_dict[section_name]\n",
    "\n",
    "    url = f'https://news.nate.com/recent?mid={m_id}'\n",
    "    print(url)\n",
    "\n",
    "    req_header = {\n",
    "        'user-agent': 'Mozilla/5.0 (Windows NT 10.0; Win64; x64) AppleWebKit/537.36 (KHTML, like Gecko) Chrome/104.0.0.0 Safari/537.36'\n",
    "    }\n",
    "\n",
    "    res = requests.get(url, headers=req_header)\n",
    "    print(type(res))\n",
    "    print(res.status_code)\n",
    "\n",
    "    if res.ok:\n",
    "        res.encoding = 'euc-kr'\n",
    "        html = res.text\n",
    "        soup = BeautifulSoup(html, 'html.parser')\n",
    "\n",
    "        print(f'======> {url} {section_name} 뉴스 <======')   \n",
    "\n",
    "        tags = soup.select(\"div.postListType.noListTitle div.mlt01\")\n",
    "        print(len(tags))\n",
    "\n",
    "        for idx,div_tag in enumerate(tags,1): \n",
    "            print(f'============>> {idx}')       \n",
    "            a_tag = div_tag.find('a')\n",
    "            a_join_url = urljoin(url,a_tag['href'])\n",
    "            print(a_join_url)\n",
    "\n",
    "            img_tag = div_tag.select_one('span.ib img')\n",
    "            if img_tag:\n",
    "                photo_url = urljoin(url,img_tag['src'])\n",
    "                print(photo_url)\n",
    "                display(Image(url=photo_url))\n",
    "\n",
    "            h2_tag = div_tag.select_one('span.tb h2.tit')\n",
    "            title = h2_tag.text\n",
    "            print(title)\n",
    "\n",
    "    else:\n",
    "        print(f'에러코드 = {res.status_code}')\n",
    "\n",
    "print_news('IT/과학')"
   ]
  }
 ],
 "metadata": {
  "kernelspec": {
   "display_name": "base",
   "language": "python",
   "name": "python3"
  },
  "language_info": {
   "codemirror_mode": {
    "name": "ipython",
    "version": 3
   },
   "file_extension": ".py",
   "mimetype": "text/x-python",
   "name": "python",
   "nbconvert_exporter": "python",
   "pygments_lexer": "ipython3",
   "version": "3.12.7"
  }
 },
 "nbformat": 4,
 "nbformat_minor": 5
}
